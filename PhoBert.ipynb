{
  "nbformat": 4,
  "nbformat_minor": 0,
  "metadata": {
    "kernelspec": {
      "language": "python",
      "display_name": "Python 3",
      "name": "python3"
    },
    "language_info": {
      "name": "python",
      "version": "3.7.10",
      "mimetype": "text/x-python",
      "codemirror_mode": {
        "name": "ipython",
        "version": 3
      },
      "pygments_lexer": "ipython3",
      "nbconvert_exporter": "python",
      "file_extension": ".py"
    },
    "colab": {
      "name": "PhoBert",
      "provenance": [],
      "collapsed_sections": []
    },
    "accelerator": "GPU"
  },
  "cells": [
    {
      "cell_type": "code",
      "metadata": {
        "colab": {
          "base_uri": "https://localhost:8080/"
        },
        "id": "jcHiN36VlXOE",
        "outputId": "d8a3daa3-6562-432e-9f45-20011e6b52d2"
      },
      "source": [
        "from google.colab import drive\n",
        "drive.mount('/content/drive')"
      ],
      "execution_count": null,
      "outputs": [
        {
          "output_type": "stream",
          "text": [
            "Drive already mounted at /content/drive; to attempt to forcibly remount, call drive.mount(\"/content/drive\", force_remount=True).\n"
          ],
          "name": "stdout"
        }
      ]
    },
    {
      "cell_type": "code",
      "metadata": {
        "_cell_guid": "b1076dfc-b9ad-4769-8c92-a6c4dae69d19",
        "_uuid": "8f2839f25d086af736a60e9eeb907d3b93b6e0e5",
        "papermill": {
          "duration": 0.048989,
          "end_time": "2021-05-09T11:18:51.06036",
          "exception": false,
          "start_time": "2021-05-09T11:18:51.011371",
          "status": "completed"
        },
        "tags": [],
        "trusted": true,
        "id": "RyBYkRncyh-N"
      },
      "source": [
        "import numpy as np \n",
        "import pandas as pd "
      ],
      "execution_count": null,
      "outputs": []
    },
    {
      "cell_type": "code",
      "metadata": {
        "papermill": {
          "duration": null,
          "end_time": null,
          "exception": false,
          "start_time": "2021-05-09T11:18:51.083635",
          "status": "running"
        },
        "tags": [],
        "trusted": true,
        "colab": {
          "base_uri": "https://localhost:8080/"
        },
        "id": "CGbygxEiyh-S",
        "outputId": "10576428-81ba-4305-9549-e75cc53c6be5"
      },
      "source": [
        "!pip install transformers"
      ],
      "execution_count": null,
      "outputs": [
        {
          "output_type": "stream",
          "text": [
            "Requirement already satisfied: transformers in /usr/local/lib/python3.7/dist-packages (4.6.1)\n",
            "Requirement already satisfied: numpy>=1.17 in /usr/local/lib/python3.7/dist-packages (from transformers) (1.19.5)\n",
            "Requirement already satisfied: huggingface-hub==0.0.8 in /usr/local/lib/python3.7/dist-packages (from transformers) (0.0.8)\n",
            "Requirement already satisfied: regex!=2019.12.17 in /usr/local/lib/python3.7/dist-packages (from transformers) (2019.12.20)\n",
            "Requirement already satisfied: packaging in /usr/local/lib/python3.7/dist-packages (from transformers) (20.9)\n",
            "Requirement already satisfied: sacremoses in /usr/local/lib/python3.7/dist-packages (from transformers) (0.0.45)\n",
            "Requirement already satisfied: tqdm>=4.27 in /usr/local/lib/python3.7/dist-packages (from transformers) (4.41.1)\n",
            "Requirement already satisfied: filelock in /usr/local/lib/python3.7/dist-packages (from transformers) (3.0.12)\n",
            "Requirement already satisfied: tokenizers<0.11,>=0.10.1 in /usr/local/lib/python3.7/dist-packages (from transformers) (0.10.3)\n",
            "Requirement already satisfied: importlib-metadata; python_version < \"3.8\" in /usr/local/lib/python3.7/dist-packages (from transformers) (4.0.1)\n",
            "Requirement already satisfied: requests in /usr/local/lib/python3.7/dist-packages (from transformers) (2.23.0)\n",
            "Requirement already satisfied: pyparsing>=2.0.2 in /usr/local/lib/python3.7/dist-packages (from packaging->transformers) (2.4.7)\n",
            "Requirement already satisfied: click in /usr/local/lib/python3.7/dist-packages (from sacremoses->transformers) (7.1.2)\n",
            "Requirement already satisfied: joblib in /usr/local/lib/python3.7/dist-packages (from sacremoses->transformers) (1.0.1)\n",
            "Requirement already satisfied: six in /usr/local/lib/python3.7/dist-packages (from sacremoses->transformers) (1.15.0)\n",
            "Requirement already satisfied: zipp>=0.5 in /usr/local/lib/python3.7/dist-packages (from importlib-metadata; python_version < \"3.8\"->transformers) (3.4.1)\n",
            "Requirement already satisfied: typing-extensions>=3.6.4; python_version < \"3.8\" in /usr/local/lib/python3.7/dist-packages (from importlib-metadata; python_version < \"3.8\"->transformers) (3.7.4.3)\n",
            "Requirement already satisfied: certifi>=2017.4.17 in /usr/local/lib/python3.7/dist-packages (from requests->transformers) (2020.12.5)\n",
            "Requirement already satisfied: idna<3,>=2.5 in /usr/local/lib/python3.7/dist-packages (from requests->transformers) (2.10)\n",
            "Requirement already satisfied: urllib3!=1.25.0,!=1.25.1,<1.26,>=1.21.1 in /usr/local/lib/python3.7/dist-packages (from requests->transformers) (1.24.3)\n",
            "Requirement already satisfied: chardet<4,>=3.0.2 in /usr/local/lib/python3.7/dist-packages (from requests->transformers) (3.0.4)\n"
          ],
          "name": "stdout"
        }
      ]
    },
    {
      "cell_type": "code",
      "metadata": {
        "papermill": {
          "duration": null,
          "end_time": null,
          "exception": null,
          "start_time": null,
          "status": "pending"
        },
        "tags": [],
        "trusted": true,
        "id": "rn4yM3Rbyh-S"
      },
      "source": [
        "import pandas as pd\n",
        "import numpy as np\n",
        "from tqdm import tqdm, trange\n",
        "\n",
        "data = pd.read_csv(\"/content/drive/MyDrive/Project 1/train_official_ver2.csv\", \n",
        "                   encoding=\"utf-8\").fillna(method=\"ffill\")"
      ],
      "execution_count": null,
      "outputs": []
    },
    {
      "cell_type": "code",
      "metadata": {
        "id": "TWkjgcYwGha0"
      },
      "source": [
        "data[\"Word\"] = data.Word.apply(str)"
      ],
      "execution_count": null,
      "outputs": []
    },
    {
      "cell_type": "code",
      "metadata": {
        "colab": {
          "base_uri": "https://localhost:8080/",
          "height": 204
        },
        "id": "IPILLv1IE-W0",
        "outputId": "a3a52bc9-df2d-4157-b987-a0ac25ae56e0"
      },
      "source": [
        "data.head()"
      ],
      "execution_count": null,
      "outputs": [
        {
          "output_type": "execute_result",
          "data": {
            "text/html": [
              "<div>\n",
              "<style scoped>\n",
              "    .dataframe tbody tr th:only-of-type {\n",
              "        vertical-align: middle;\n",
              "    }\n",
              "\n",
              "    .dataframe tbody tr th {\n",
              "        vertical-align: top;\n",
              "    }\n",
              "\n",
              "    .dataframe thead th {\n",
              "        text-align: right;\n",
              "    }\n",
              "</style>\n",
              "<table border=\"1\" class=\"dataframe\">\n",
              "  <thead>\n",
              "    <tr style=\"text-align: right;\">\n",
              "      <th></th>\n",
              "      <th>Word</th>\n",
              "      <th>Tag</th>\n",
              "      <th>Sentence #</th>\n",
              "    </tr>\n",
              "  </thead>\n",
              "  <tbody>\n",
              "    <tr>\n",
              "      <th>0</th>\n",
              "      <td>xe</td>\n",
              "      <td>B-TYPE</td>\n",
              "      <td>Sentence: 1</td>\n",
              "    </tr>\n",
              "    <tr>\n",
              "      <th>1</th>\n",
              "      <td>lăn</td>\n",
              "      <td>I-TYPE</td>\n",
              "      <td>Sentence: 1</td>\n",
              "    </tr>\n",
              "    <tr>\n",
              "      <th>2</th>\n",
              "      <td>dùng</td>\n",
              "      <td>O</td>\n",
              "      <td>Sentence: 1</td>\n",
              "    </tr>\n",
              "    <tr>\n",
              "      <th>3</th>\n",
              "      <td>cho</td>\n",
              "      <td>O</td>\n",
              "      <td>Sentence: 1</td>\n",
              "    </tr>\n",
              "    <tr>\n",
              "      <th>4</th>\n",
              "      <td>bệnh</td>\n",
              "      <td>O</td>\n",
              "      <td>Sentence: 1</td>\n",
              "    </tr>\n",
              "  </tbody>\n",
              "</table>\n",
              "</div>"
            ],
            "text/plain": [
              "   Word     Tag   Sentence #\n",
              "0    xe  B-TYPE  Sentence: 1\n",
              "1   lăn  I-TYPE  Sentence: 1\n",
              "2  dùng       O  Sentence: 1\n",
              "3   cho       O  Sentence: 1\n",
              "4  bệnh       O  Sentence: 1"
            ]
          },
          "metadata": {
            "tags": []
          },
          "execution_count": 6
        }
      ]
    },
    {
      "cell_type": "code",
      "metadata": {
        "id": "I_qc5Td9E6SG"
      },
      "source": [
        "tag_values = list(set(data[\"Tag\"].values))\n",
        "tag_values.append(\"PAD\")\n",
        "tag2idx = {t: i for i, t in enumerate(tag_values)}\n",
        "idx2tag = {value : key for (key, value) in tag2idx.items()}"
      ],
      "execution_count": null,
      "outputs": []
    },
    {
      "cell_type": "code",
      "metadata": {
        "colab": {
          "base_uri": "https://localhost:8080/"
        },
        "id": "JUBK__vmFW1e",
        "outputId": "26a6249e-5de5-4cea-d962-73542fbcda50"
      },
      "source": [
        "tag2idx"
      ],
      "execution_count": null,
      "outputs": [
        {
          "output_type": "execute_result",
          "data": {
            "text/plain": [
              "{'B-BRAND': 9,\n",
              " 'B-ENGINE_FULE_TYPE': 1,\n",
              " 'B-NAME': 0,\n",
              " 'B-STATUS': 5,\n",
              " 'B-TYPE': 6,\n",
              " 'B-YEAR': 3,\n",
              " 'I-BRAND': 4,\n",
              " 'I-NAME': 8,\n",
              " 'I-STATUS': 10,\n",
              " 'I-TYPE': 2,\n",
              " 'O': 7,\n",
              " 'PAD': 11}"
            ]
          },
          "metadata": {
            "tags": []
          },
          "execution_count": 8
        }
      ]
    },
    {
      "cell_type": "code",
      "metadata": {
        "colab": {
          "base_uri": "https://localhost:8080/"
        },
        "id": "apNUjRI9FY51",
        "outputId": "69e3fea6-7741-4718-ee11-d045d65bde47"
      },
      "source": [
        "idx2tag"
      ],
      "execution_count": null,
      "outputs": [
        {
          "output_type": "execute_result",
          "data": {
            "text/plain": [
              "{0: 'B-NAME',\n",
              " 1: 'B-ENGINE_FULE_TYPE',\n",
              " 2: 'I-TYPE',\n",
              " 3: 'B-YEAR',\n",
              " 4: 'I-BRAND',\n",
              " 5: 'B-STATUS',\n",
              " 6: 'B-TYPE',\n",
              " 7: 'O',\n",
              " 8: 'I-NAME',\n",
              " 9: 'B-BRAND',\n",
              " 10: 'I-STATUS',\n",
              " 11: 'PAD'}"
            ]
          },
          "metadata": {
            "tags": []
          },
          "execution_count": 9
        }
      ]
    },
    {
      "cell_type": "code",
      "metadata": {
        "id": "jEHaeEbhGpq0"
      },
      "source": [
        "class SentenceGetter(object):\n",
        "\n",
        "    def __init__(self, data):\n",
        "        self.n_sent = 1\n",
        "        self.data = data\n",
        "        self.empty = False\n",
        "        agg_func = lambda s: [(w, t) for w, t in zip(s[\"Word\"].values.tolist(),\n",
        "                                                           s[\"Tag\"].values.tolist())]\n",
        "        self.grouped = self.data.groupby(\"Sentence #\").apply(agg_func)\n",
        "        self.sentences = [s for s in self.grouped]\n",
        "\n",
        "    def get_next(self):\n",
        "        try:\n",
        "            s = self.grouped[\"Sentence: {}\".format(self.n_sent)]\n",
        "            self.n_sent += 1\n",
        "            return s\n",
        "        except:\n",
        "            return None"
      ],
      "execution_count": null,
      "outputs": []
    },
    {
      "cell_type": "code",
      "metadata": {
        "id": "tP2VIXIaGqcs"
      },
      "source": [
        "getter = SentenceGetter(data)"
      ],
      "execution_count": null,
      "outputs": []
    },
    {
      "cell_type": "code",
      "metadata": {
        "id": "ePvMVFPVGuWs",
        "colab": {
          "base_uri": "https://localhost:8080/"
        },
        "outputId": "b5bc1012-d1c5-4c61-8125-fffc24178d98"
      },
      "source": [
        "sentences = [[word[0] for word in sentence] for sentence in getter.sentences]\n",
        "sentences[0]"
      ],
      "execution_count": null,
      "outputs": [
        {
          "output_type": "execute_result",
          "data": {
            "text/plain": [
              "['xe',\n",
              " 'lăn',\n",
              " 'dùng',\n",
              " 'cho',\n",
              " 'bệnh',\n",
              " 'nhân',\n",
              " ',',\n",
              " 'người',\n",
              " 'tàn',\n",
              " 'tật',\n",
              " 'h011q',\n",
              " '16',\n",
              " \"''\",\n",
              " 'blue',\n",
              " '.',\n",
              " 'mới',\n",
              " '100',\n",
              " '%']"
            ]
          },
          "metadata": {
            "tags": []
          },
          "execution_count": 12
        }
      ]
    },
    {
      "cell_type": "code",
      "metadata": {
        "colab": {
          "base_uri": "https://localhost:8080/"
        },
        "id": "wa61UKxzGyV2",
        "outputId": "aa580da2-9543-4611-baa3-0c6865c710aa"
      },
      "source": [
        "labels = [[s[1] for s in sentence] for sentence in getter.sentences]\n",
        "print(labels[0])"
      ],
      "execution_count": null,
      "outputs": [
        {
          "output_type": "stream",
          "text": [
            "['B-TYPE', 'I-TYPE', 'O', 'O', 'O', 'O', 'O', 'O', 'O', 'O', 'B-NAME', 'O', 'O', 'O', 'O', 'B-STATUS', 'I-STATUS', 'I-STATUS']\n"
          ],
          "name": "stdout"
        }
      ]
    },
    {
      "cell_type": "code",
      "metadata": {
        "papermill": {
          "duration": null,
          "end_time": null,
          "exception": null,
          "start_time": null,
          "status": "pending"
        },
        "tags": [],
        "trusted": true,
        "id": "oJBgxzORyh-Y",
        "colab": {
          "base_uri": "https://localhost:8080/"
        },
        "outputId": "3f3f04df-5f06-4fa8-f463-1a62b8810e4b"
      },
      "source": [
        "from transformers import PhobertTokenizer\n",
        "tokenizer = PhobertTokenizer.from_pretrained(\"vinai/phobert-base\")"
      ],
      "execution_count": null,
      "outputs": [
        {
          "output_type": "stream",
          "text": [
            "Special tokens have been added in the vocabulary, make sure the associated word embeddings are fine-tuned or trained.\n"
          ],
          "name": "stderr"
        }
      ]
    },
    {
      "cell_type": "code",
      "metadata": {
        "id": "quUwsmVoG3gu"
      },
      "source": [
        "def tokenize_and_preserve_labels(sentence, text_labels):\n",
        "    tokenized_sentence = []\n",
        "    labels = []\n",
        "\n",
        "    for word, label in zip(sentence, text_labels):\n",
        "\n",
        "        # Tokenize the word and count # of subwords the word is broken into\n",
        "        tokenized_word = tokenizer.tokenize(word)\n",
        "        n_subwords = len(tokenized_word)\n",
        "\n",
        "        # Add the tokenized word to the final tokenized word list\n",
        "        tokenized_sentence.extend(tokenized_word)\n",
        "\n",
        "        # Add the same label to the new list of labels `n_subwords` times\n",
        "        labels.extend([label] * n_subwords)\n",
        "\n",
        "    return tokenized_sentence, labels\n"
      ],
      "execution_count": null,
      "outputs": []
    },
    {
      "cell_type": "code",
      "metadata": {
        "id": "eAvFAmEGG4dc"
      },
      "source": [
        "tokenized_texts_and_labels = [\n",
        "    tokenize_and_preserve_labels(sent, labs)\n",
        "    for sent, labs in zip(sentences, labels)\n",
        "]"
      ],
      "execution_count": null,
      "outputs": []
    },
    {
      "cell_type": "code",
      "metadata": {
        "id": "C3TFIN7nG6aE",
        "colab": {
          "base_uri": "https://localhost:8080/"
        },
        "outputId": "b4c5cebd-a6b4-4854-84a2-1f80bfe13f13"
      },
      "source": [
        "tokenized_texts_and_labels[0][1]"
      ],
      "execution_count": null,
      "outputs": [
        {
          "output_type": "execute_result",
          "data": {
            "text/plain": [
              "['B-TYPE',\n",
              " 'I-TYPE',\n",
              " 'O',\n",
              " 'O',\n",
              " 'O',\n",
              " 'O',\n",
              " 'O',\n",
              " 'O',\n",
              " 'O',\n",
              " 'O',\n",
              " 'B-NAME',\n",
              " 'B-NAME',\n",
              " 'B-NAME',\n",
              " 'B-NAME',\n",
              " 'O',\n",
              " 'O',\n",
              " 'O',\n",
              " 'O',\n",
              " 'O',\n",
              " 'B-STATUS',\n",
              " 'I-STATUS',\n",
              " 'I-STATUS']"
            ]
          },
          "metadata": {
            "tags": []
          },
          "execution_count": 17
        }
      ]
    },
    {
      "cell_type": "code",
      "metadata": {
        "id": "68dW4v_UG9r8"
      },
      "source": [
        "tokenized_texts = [token_label_pair[0] for token_label_pair in tokenized_texts_and_labels]\n",
        "labels = [token_label_pair[1] for token_label_pair in tokenized_texts_and_labels]"
      ],
      "execution_count": null,
      "outputs": []
    },
    {
      "cell_type": "code",
      "metadata": {
        "id": "mVPrNcaRG_xt"
      },
      "source": [
        "from keras.preprocessing.sequence import pad_sequences\n",
        "from sklearn.model_selection import train_test_split\n",
        "import torch\n",
        "from torch.utils.data import TensorDataset, DataLoader, RandomSampler, SequentialSampler\n",
        "\n",
        "MAX_LEN = 75\n",
        "bs = 32\n"
      ],
      "execution_count": null,
      "outputs": []
    },
    {
      "cell_type": "code",
      "metadata": {
        "id": "YFKH5O3e9SxC"
      },
      "source": [
        "device = torch.device(\"cuda\" if torch.cuda.is_available() else \"cpu\")\n",
        "n_gpu = torch.cuda.device_count()\n"
      ],
      "execution_count": null,
      "outputs": []
    },
    {
      "cell_type": "code",
      "metadata": {
        "id": "H2J4twyF8BQK"
      },
      "source": [
        "input_ids = pad_sequences([tokenizer.convert_tokens_to_ids(txt) for txt in tokenized_texts],\n",
        "                          maxlen=MAX_LEN, dtype=\"long\", value=0.0,\n",
        "                          truncating=\"post\", padding=\"post\")"
      ],
      "execution_count": null,
      "outputs": []
    },
    {
      "cell_type": "code",
      "metadata": {
        "id": "YyXo05WqHCLk"
      },
      "source": [
        "tags = pad_sequences([[tag2idx.get(l) for l in lab] for lab in labels],\n",
        "                     maxlen=MAX_LEN, value=tag2idx[\"PAD\"], padding=\"post\",\n",
        "                     dtype=\"long\", truncating=\"post\")"
      ],
      "execution_count": null,
      "outputs": []
    },
    {
      "cell_type": "code",
      "metadata": {
        "id": "QFRX8qDqHabb"
      },
      "source": [
        "attention_masks = [[float(i != 0.0) for i in ii] for ii in input_ids]"
      ],
      "execution_count": null,
      "outputs": []
    },
    {
      "cell_type": "code",
      "metadata": {
        "id": "qCjzxqe8Ha_N"
      },
      "source": [
        "tr_inputs, val_inputs, tr_tags, val_tags = train_test_split(input_ids, tags,\n",
        "                                                            random_state=2018, test_size=0.1)\n",
        "tr_masks, val_masks, _, _ = train_test_split(attention_masks, input_ids,\n",
        "                                             random_state=2018, test_size=0.1)\n"
      ],
      "execution_count": null,
      "outputs": []
    },
    {
      "cell_type": "code",
      "metadata": {
        "id": "4hbXeyMbHdV0"
      },
      "source": [
        "tr_inputs = torch.tensor(tr_inputs)\n",
        "val_inputs = torch.tensor(val_inputs)\n",
        "tr_tags = torch.tensor(tr_tags)\n",
        "val_tags = torch.tensor(val_tags)\n",
        "tr_masks = torch.tensor(tr_masks)\n",
        "val_masks = torch.tensor(val_masks)\n"
      ],
      "execution_count": null,
      "outputs": []
    },
    {
      "cell_type": "code",
      "metadata": {
        "id": "fw4w1kLFHfBF"
      },
      "source": [
        "train_data = TensorDataset(tr_inputs, tr_masks, tr_tags)\n",
        "train_sampler = RandomSampler(train_data)\n",
        "train_dataloader = DataLoader(train_data, sampler=train_sampler, batch_size=bs)\n",
        "\n",
        "valid_data = TensorDataset(val_inputs, val_masks, val_tags)\n",
        "valid_sampler = SequentialSampler(valid_data)\n",
        "valid_dataloader = DataLoader(valid_data, sampler=valid_sampler, batch_size=bs)\n"
      ],
      "execution_count": null,
      "outputs": []
    },
    {
      "cell_type": "code",
      "metadata": {
        "colab": {
          "base_uri": "https://localhost:8080/"
        },
        "id": "T0eN3eadAPWq",
        "outputId": "68ab6502-bfde-4fd8-dd6a-120e9586cd7c"
      },
      "source": [
        "from transformers import RobertaForTokenClassification\n",
        "model = RobertaForTokenClassification.from_pretrained(\"vinai/phobert-base\", num_labels=len(tag_values))"
      ],
      "execution_count": null,
      "outputs": [
        {
          "output_type": "stream",
          "text": [
            "Some weights of the model checkpoint at vinai/phobert-base were not used when initializing RobertaForTokenClassification: ['lm_head.layer_norm.weight', 'lm_head.decoder.bias', 'lm_head.layer_norm.bias', 'lm_head.bias', 'lm_head.dense.weight', 'lm_head.decoder.weight', 'lm_head.dense.bias']\n",
            "- This IS expected if you are initializing RobertaForTokenClassification from the checkpoint of a model trained on another task or with another architecture (e.g. initializing a BertForSequenceClassification model from a BertForPreTraining model).\n",
            "- This IS NOT expected if you are initializing RobertaForTokenClassification from the checkpoint of a model that you expect to be exactly identical (initializing a BertForSequenceClassification model from a BertForSequenceClassification model).\n",
            "Some weights of RobertaForTokenClassification were not initialized from the model checkpoint at vinai/phobert-base and are newly initialized: ['classifier.bias', 'classifier.weight']\n",
            "You should probably TRAIN this model on a down-stream task to be able to use it for predictions and inference.\n"
          ],
          "name": "stderr"
        }
      ]
    },
    {
      "cell_type": "code",
      "metadata": {
        "id": "3KQYNfblGIX0"
      },
      "source": [
        "model.cuda();"
      ],
      "execution_count": null,
      "outputs": []
    },
    {
      "cell_type": "code",
      "metadata": {
        "id": "1MBde0EM8r98"
      },
      "source": [
        "from transformers import AdamW"
      ],
      "execution_count": null,
      "outputs": []
    },
    {
      "cell_type": "code",
      "metadata": {
        "id": "ykuQu8M5JDoZ"
      },
      "source": [
        "FULL_FINETUNING = True\n",
        "if FULL_FINETUNING:\n",
        "    param_optimizer = list(model.named_parameters())\n",
        "    no_decay = ['bias', 'gamma', 'beta']\n",
        "    optimizer_grouped_parameters = [\n",
        "        {'params': [p for n, p in param_optimizer if not any(nd in n for nd in no_decay)],\n",
        "         'weight_decay_rate': 0.01},\n",
        "        {'params': [p for n, p in param_optimizer if any(nd in n for nd in no_decay)],\n",
        "         'weight_decay_rate': 0.0}\n",
        "    ]\n",
        "else:\n",
        "    param_optimizer = list(model.classifier.named_parameters())\n",
        "    optimizer_grouped_parameters = [{\"params\": [p for n, p in param_optimizer]}]\n",
        "\n",
        "optimizer = AdamW(\n",
        "    optimizer_grouped_parameters,\n",
        "    lr=3e-5,\n",
        "    eps=1e-8\n",
        ")\n"
      ],
      "execution_count": null,
      "outputs": []
    },
    {
      "cell_type": "code",
      "metadata": {
        "id": "rzgakGcjJFLs"
      },
      "source": [
        "from transformers import get_linear_schedule_with_warmup\n",
        "\n",
        "epochs = 10\n",
        "max_grad_norm = 1.0\n",
        "\n",
        "# Total number of training steps is number of batches * number of epochs.\n",
        "total_steps = len(train_dataloader) * epochs\n",
        "\n",
        "# Create the learning rate scheduler.\n",
        "scheduler = get_linear_schedule_with_warmup(\n",
        "    optimizer,\n",
        "    num_warmup_steps=0,\n",
        "    num_training_steps=total_steps\n",
        ")\n"
      ],
      "execution_count": null,
      "outputs": []
    },
    {
      "cell_type": "code",
      "metadata": {
        "colab": {
          "base_uri": "https://localhost:8080/"
        },
        "id": "czU39ZDTJGaj",
        "outputId": "3a8920d5-05a4-46fc-f0ce-8dd8df5c2198"
      },
      "source": [
        "!pip install seqeval"
      ],
      "execution_count": null,
      "outputs": [
        {
          "output_type": "stream",
          "text": [
            "Requirement already satisfied: seqeval in /usr/local/lib/python3.7/dist-packages (1.2.2)\n",
            "Requirement already satisfied: scikit-learn>=0.21.3 in /usr/local/lib/python3.7/dist-packages (from seqeval) (0.22.2.post1)\n",
            "Requirement already satisfied: numpy>=1.14.0 in /usr/local/lib/python3.7/dist-packages (from seqeval) (1.19.5)\n",
            "Requirement already satisfied: scipy>=0.17.0 in /usr/local/lib/python3.7/dist-packages (from scikit-learn>=0.21.3->seqeval) (1.4.1)\n",
            "Requirement already satisfied: joblib>=0.11 in /usr/local/lib/python3.7/dist-packages (from scikit-learn>=0.21.3->seqeval) (1.0.1)\n"
          ],
          "name": "stdout"
        }
      ]
    },
    {
      "cell_type": "code",
      "metadata": {
        "id": "rc9qn8YFJH9p"
      },
      "source": [
        "from seqeval.metrics import f1_score, accuracy_score"
      ],
      "execution_count": null,
      "outputs": []
    },
    {
      "cell_type": "code",
      "metadata": {
        "colab": {
          "base_uri": "https://localhost:8080/"
        },
        "id": "dqCPC_jWJJYC",
        "outputId": "2dd8f7be-1141-44dd-da6f-88b9a1283bdb"
      },
      "source": [
        "## Store the average loss after each epoch so we can plot them.\n",
        "loss_values, validation_loss_values = [], []\n",
        "\n",
        "for _ in trange(epochs, desc=\"Epoch\"):\n",
        "    # ========================================\n",
        "    #               Training\n",
        "    # ========================================\n",
        "    # Perform one full pass over the training set.\n",
        "\n",
        "    # Put the model into training mode.\n",
        "    model.train()\n",
        "    # Reset the total loss for this epoch.\n",
        "    total_loss = 0\n",
        "\n",
        "    # Training loop\n",
        "    for step, batch in enumerate(train_dataloader):\n",
        "        # add batch to gpu\n",
        "        batch = tuple(t.to(device) for t in batch)\n",
        "        b_input_ids, b_input_mask, b_labels = batch\n",
        "        # Always clear any previously calculated gradients before performing a backward pass.\n",
        "        model.zero_grad()\n",
        "        # forward pass\n",
        "        # This will return the loss (rather than the model output)\n",
        "        # because we have provided the `labels`.\n",
        "        outputs = model(b_input_ids, token_type_ids=None,\n",
        "                        attention_mask=b_input_mask, labels=b_labels)\n",
        "        # get the loss\n",
        "        loss = outputs[0]\n",
        "        # Perform a backward pass to calculate the gradients.\n",
        "        loss.backward()\n",
        "        # track train loss\n",
        "        total_loss += loss.item()\n",
        "        # Clip the norm of the gradient\n",
        "        # This is to help prevent the \"exploding gradients\" problem.\n",
        "        torch.nn.utils.clip_grad_norm_(parameters=model.parameters(), max_norm=max_grad_norm)\n",
        "        # update parameters\n",
        "        optimizer.step()\n",
        "        # Update the learning rate.\n",
        "        scheduler.step()\n",
        "\n",
        "    # Calculate the average loss over the training data.\n",
        "    avg_train_loss = total_loss / len(train_dataloader)\n",
        "    print(\"Average train loss: {}\".format(avg_train_loss))\n",
        "\n",
        "    # Store the loss value for plotting the learning curve.\n",
        "    loss_values.append(avg_train_loss)\n",
        "\n",
        "\n",
        "    # ========================================\n",
        "    #               Validation\n",
        "    # ========================================\n",
        "    # After the completion of each training epoch, measure our performance on\n",
        "    # our validation set.\n",
        "\n",
        "    # Put the model into evaluation mode\n",
        "    model.eval()\n",
        "    # Reset the validation loss for this epoch.\n",
        "    eval_loss, eval_accuracy = 0, 0\n",
        "    nb_eval_steps, nb_eval_examples = 0, 0\n",
        "    predictions , true_labels = [], []\n",
        "    for batch in valid_dataloader:\n",
        "        batch = tuple(t.to(device) for t in batch)\n",
        "        b_input_ids, b_input_mask, b_labels = batch\n",
        "\n",
        "        # Telling the model not to compute or store gradients,\n",
        "        # saving memory and speeding up validation\n",
        "        with torch.no_grad():\n",
        "            # Forward pass, calculate logit predictions.\n",
        "            # This will return the logits rather than the loss because we have not provided labels.\n",
        "            outputs = model(b_input_ids, token_type_ids=None,\n",
        "                            attention_mask=b_input_mask, labels=b_labels)\n",
        "        # Move logits and labels to CPU\n",
        "        logits = outputs[1].detach().cpu().numpy()\n",
        "        label_ids = b_labels.to('cpu').numpy()\n",
        "\n",
        "        # Calculate the accuracy for this batch of test sentences.\n",
        "        eval_loss += outputs[0].mean().item()\n",
        "        predictions.extend([list(p) for p in np.argmax(logits, axis=2)])\n",
        "        true_labels.extend(label_ids)\n",
        "\n",
        "    eval_loss = eval_loss / len(valid_dataloader)\n",
        "    validation_loss_values.append(eval_loss)\n",
        "    print(\"Validation loss: {}\".format(eval_loss))\n",
        "    pred_tags = [[tag_values[p_i] for p, l in zip(predictions, true_labels)\n",
        "                                 for p_i, l_i in zip(p, l) if tag_values[l_i] != \"PAD\"]]\n",
        "    valid_tags = [[tag_values[l_i] for l in true_labels\n",
        "                                  for l_i in l if tag_values[l_i] != \"PAD\"]]\n",
        "    print(\"Validation Accuracy: {}\".format(accuracy_score(pred_tags, valid_tags)))\n",
        "    print(\"Validation F1-Score: {}\".format(f1_score(pred_tags, valid_tags)))\n",
        "    print()\n"
      ],
      "execution_count": null,
      "outputs": [
        {
          "output_type": "stream",
          "text": [
            "\rEpoch:   0%|          | 0/10 [00:00<?, ?it/s]"
          ],
          "name": "stderr"
        },
        {
          "output_type": "stream",
          "text": [
            "Average train loss: 0.29289229035658654\n"
          ],
          "name": "stdout"
        },
        {
          "output_type": "stream",
          "text": [
            "\rEpoch:  10%|█         | 1/10 [01:53<17:02, 113.56s/it]"
          ],
          "name": "stderr"
        },
        {
          "output_type": "stream",
          "text": [
            "Validation loss: 0.05201048435022434\n",
            "Validation Accuracy: 0.9882445141065831\n",
            "Validation F1-Score: 0.9617627118644069\n",
            "\n",
            "Average train loss: 0.04321209011634566\n"
          ],
          "name": "stdout"
        },
        {
          "output_type": "stream",
          "text": [
            "\rEpoch:  20%|██        | 2/10 [03:52<15:21, 115.25s/it]"
          ],
          "name": "stderr"
        },
        {
          "output_type": "stream",
          "text": [
            "Validation loss: 0.023961469422404964\n",
            "Validation Accuracy: 0.9953401677539608\n",
            "Validation F1-Score: 0.9846132804486084\n",
            "\n",
            "Average train loss: 0.023616856311992656\n"
          ],
          "name": "stdout"
        },
        {
          "output_type": "stream",
          "text": [
            "\rEpoch:  30%|███       | 3/10 [05:54<13:39, 117.14s/it]"
          ],
          "name": "stderr"
        },
        {
          "output_type": "stream",
          "text": [
            "Validation loss: 0.017026972390400866\n",
            "Validation Accuracy: 0.9967592984834364\n",
            "Validation F1-Score: 0.9895804771044694\n",
            "\n",
            "Average train loss: 0.01529321813217874\n"
          ],
          "name": "stdout"
        },
        {
          "output_type": "stream",
          "text": [
            "\rEpoch:  40%|████      | 4/10 [07:57<11:53, 118.84s/it]"
          ],
          "name": "stderr"
        },
        {
          "output_type": "stream",
          "text": [
            "Validation loss: 0.016316903685219587\n",
            "Validation Accuracy: 0.9967381174277726\n",
            "Validation F1-Score: 0.9896075482018323\n",
            "\n",
            "Average train loss: 0.01073444821291937\n"
          ],
          "name": "stdout"
        },
        {
          "output_type": "stream",
          "text": [
            "\rEpoch:  50%|█████     | 5/10 [09:59<10:00, 120.03s/it]"
          ],
          "name": "stderr"
        },
        {
          "output_type": "stream",
          "text": [
            "Validation loss: 0.013675857878600558\n",
            "Validation Accuracy: 0.997606540709989\n",
            "Validation F1-Score: 0.9921173486873671\n",
            "\n",
            "Average train loss: 0.008548235587494553\n"
          ],
          "name": "stdout"
        },
        {
          "output_type": "stream",
          "text": [
            "\rEpoch:  60%|██████    | 6/10 [12:02<08:03, 120.86s/it]"
          ],
          "name": "stderr"
        },
        {
          "output_type": "stream",
          "text": [
            "Validation loss: 0.017864667220662038\n",
            "Validation Accuracy: 0.9961026857578582\n",
            "Validation F1-Score: 0.9877183406113538\n",
            "\n",
            "Average train loss: 0.006538189151587914\n"
          ],
          "name": "stdout"
        },
        {
          "output_type": "stream",
          "text": [
            "\rEpoch:  70%|███████   | 7/10 [14:05<06:04, 121.45s/it]"
          ],
          "name": "stderr"
        },
        {
          "output_type": "stream",
          "text": [
            "Validation loss: 0.013946924125775695\n",
            "Validation Accuracy: 0.9973947301533509\n",
            "Validation F1-Score: 0.991920021911805\n",
            "\n",
            "Average train loss: 0.0054284101439956225\n"
          ],
          "name": "stdout"
        },
        {
          "output_type": "stream",
          "text": [
            "\rEpoch:  80%|████████  | 8/10 [16:08<04:03, 121.85s/it]"
          ],
          "name": "stderr"
        },
        {
          "output_type": "stream",
          "text": [
            "Validation loss: 0.01562105337701117\n",
            "Validation Accuracy: 0.9967169363721088\n",
            "Validation F1-Score: 0.9895513214505225\n",
            "\n",
            "Average train loss: 0.004422381221545192\n"
          ],
          "name": "stdout"
        },
        {
          "output_type": "stream",
          "text": [
            "\rEpoch:  90%|█████████ | 9/10 [18:11<02:02, 122.14s/it]"
          ],
          "name": "stderr"
        },
        {
          "output_type": "stream",
          "text": [
            "Validation loss: 0.015345868996034066\n",
            "Validation Accuracy: 0.9969075658730832\n",
            "Validation F1-Score: 0.9902275678261464\n",
            "\n",
            "Average train loss: 0.0041386142131468314\n"
          ],
          "name": "stdout"
        },
        {
          "output_type": "stream",
          "text": [
            "Epoch: 100%|██████████| 10/10 [20:13<00:00, 121.40s/it]"
          ],
          "name": "stderr"
        },
        {
          "output_type": "stream",
          "text": [
            "Validation loss: 0.015226131972546379\n",
            "Validation Accuracy: 0.9972252817080404\n",
            "Validation F1-Score: 0.9910402845222624\n",
            "\n"
          ],
          "name": "stdout"
        },
        {
          "output_type": "stream",
          "text": [
            "\n"
          ],
          "name": "stderr"
        }
      ]
    },
    {
      "cell_type": "code",
      "metadata": {
        "colab": {
          "base_uri": "https://localhost:8080/",
          "height": 54
        },
        "id": "_bhX_ynPLReF",
        "outputId": "504b33d4-6156-4882-9f07-24bcbb48f752"
      },
      "source": [
        "import matplotlib.pyplot as plt\n",
        "%matplotlib inline\n",
        "\n",
        "import seaborn as sns\n",
        "\n",
        "# Use plot styling from seaborn.\n",
        "sns.set(style='darkgrid')\n",
        "\n",
        "# Increase the plot size and font size.\n",
        "sns.set(font_scale=1.5)\n",
        "plt.rcParams[\"figure.figsize\"] = (12,6)\n",
        "\n",
        "# Plot the learning curve.\n",
        "plt.plot(loss_values, 'b-o', label=\"training loss\")\n",
        "plt.plot(validation_loss_values, 'r-o', label=\"validation loss\")\n",
        "\n",
        "# Label the plot.\n",
        "plt.title(\"Learning curve\")\n",
        "plt.xlabel(\"Epoch\")\n",
        "plt.ylabel(\"Loss\")\n",
        "plt.legend()\n",
        "\n",
        "plt.show()\n"
      ],
      "execution_count": null,
      "outputs": [
        {
          "output_type": "display_data",
          "data": {
            "image/png": "[encoded data removed]",
            "text/plain": [
              "<Figure size 864x432 with 1 Axes>"
            ]
          },
          "metadata": {
            "tags": []
          }
        }
      ]
    },
    {
      "cell_type": "code",
      "metadata": {
        "colab": {
          "base_uri": "https://localhost:8080/"
        },
        "id": "EP83_azuJKjH",
        "outputId": "16a8a9b5-ef4c-4f22-d4c0-d44696fd2574"
      },
      "source": [
        "test_sentence = \"xe ô tô mercedes benz sản xuất năm 1956 sử dụng xăng , đã qua sử dụng\"\n",
        "tokenized_sentence = tokenizer.encode(test_sentence)\n",
        "input_ids = torch.tensor([tokenized_sentence]).cuda()\n",
        "\n",
        "with torch.no_grad():\n",
        "    output = model(input_ids)\n",
        "label_indices = np.argmax(output[0].to('cpu').numpy(), axis=2)\n",
        "\n",
        "# join bpe split tokens\n",
        "tokens = tokenizer.convert_ids_to_tokens(input_ids.to('cpu').numpy()[0])\n",
        "new_tokens, new_labels = [], []\n",
        "dem = 0\n",
        "for token, label_idx in zip(tokens, label_indices[0]):\n",
        "  try:\n",
        "    if tokens[dem-1].endswith(\"@@\"):\n",
        "        new_tokens[-1] = new_tokens[-1][:-2] + token\n",
        "    else:\n",
        "        new_labels.append(tag_values[label_idx])\n",
        "        new_tokens.append(token)\n",
        "    dem += 1\n",
        "  except:\n",
        "    pass\n",
        "for token, label in zip(new_tokens, new_labels):\n",
        "    print(\"{}\\t{}\".format(label, token))"
      ],
      "execution_count": null,
      "outputs": [
        {
          "output_type": "stream",
          "text": [
            "B-TYPE\t<s>\n",
            "B-TYPE\txe\n",
            "I-TYPE\tô\n",
            "I-TYPE\ttô\n",
            "B-BRAND\tmercedes\n",
            "I-BRAND\tbenz\n",
            "O\tsản\n",
            "O\txuất\n",
            "O\tnăm\n",
            "B-YEAR\t1956\n",
            "O\tsử\n",
            "O\tdụng\n",
            "B-ENGINE_FULE_TYPE\txăng\n",
            "O\t,\n",
            "B-STATUS\tđã\n",
            "I-STATUS\tqua\n",
            "I-STATUS\tsử\n",
            "I-STATUS\tdụng\n",
            "B-TYPE\t</s>\n"
          ],
          "name": "stdout"
        }
      ]
    },
    {
      "cell_type": "code",
      "metadata": {
        "id": "ZWpEqyr1KcZ5"
      },
      "source": [
        "def predict(test_sentence):\n",
        "    tokenized_sentence = tokenizer.encode(test_sentence)\n",
        "    input_ids = torch.tensor([tokenized_sentence]).cuda()\n",
        "\n",
        "    with torch.no_grad():\n",
        "        output = model(input_ids)\n",
        "    label_indices = np.argmax(output[0].to('cpu').numpy(), axis=2)\n",
        "\n",
        "    # join bpe split tokens\n",
        "    tokens = tokenizer.convert_ids_to_tokens(input_ids.to('cpu').numpy()[0])\n",
        "    new_tokens, new_labels = [], []\n",
        "    dem = 0\n",
        "    for token, label_idx in zip(tokens, label_indices[0]):\n",
        "        try:\n",
        "          if tokens[dem-1].endswith(\"@@\"):\n",
        "              new_tokens[-1] = new_tokens[-1][:-2] + token\n",
        "          else:\n",
        "              new_labels.append(tag_values[label_idx])\n",
        "              new_tokens.append(token)\n",
        "          dem += 1\n",
        "        except:\n",
        "          pass\n",
        "    return new_labels[1:-1]"
      ],
      "execution_count": null,
      "outputs": []
    },
    {
      "cell_type": "code",
      "metadata": {
        "id": "nj1v0Dm-Kfmp"
      },
      "source": [
        "data_test = pd.read_csv(\"/content/drive/MyDrive/Project 1/test_official_ver2.csv\",\n",
        "                        encoding=\"utf-8\")\n",
        "\n",
        "data_test[\"Word\"] = data_test.Word.apply(str)"
      ],
      "execution_count": null,
      "outputs": []
    },
    {
      "cell_type": "code",
      "metadata": {
        "colab": {
          "base_uri": "https://localhost:8080/",
          "height": 1000
        },
        "id": "zNPPIWEJXNAe",
        "outputId": "53574e99-1dbe-460a-d3ce-8b387eff295c"
      },
      "source": [
        "data_test.head(20)"
      ],
      "execution_count": null,
      "outputs": [
        {
          "output_type": "execute_result",
          "data": {
            "text/html": [
              "<div>\n",
              "<style scoped>\n",
              "    .dataframe tbody tr th:only-of-type {\n",
              "        vertical-align: middle;\n",
              "    }\n",
              "\n",
              "    .dataframe tbody tr th {\n",
              "        vertical-align: top;\n",
              "    }\n",
              "\n",
              "    .dataframe thead th {\n",
              "        text-align: right;\n",
              "    }\n",
              "</style>\n",
              "<table border=\"1\" class=\"dataframe\">\n",
              "  <thead>\n",
              "    <tr style=\"text-align: right;\">\n",
              "      <th></th>\n",
              "      <th>Word</th>\n",
              "      <th>Tag</th>\n",
              "      <th>Sentence #</th>\n",
              "    </tr>\n",
              "  </thead>\n",
              "  <tbody>\n",
              "    <tr>\n",
              "      <th>0</th>\n",
              "      <td>xe</td>\n",
              "      <td>B-TYPE</td>\n",
              "      <td>Sentence: 1</td>\n",
              "    </tr>\n",
              "    <tr>\n",
              "      <th>1</th>\n",
              "      <td>có</td>\n",
              "      <td>I-TYPE</td>\n",
              "      <td>Sentence: 1</td>\n",
              "    </tr>\n",
              "    <tr>\n",
              "      <th>2</th>\n",
              "      <td>bô</td>\n",
              "      <td>I-TYPE</td>\n",
              "      <td>Sentence: 1</td>\n",
              "    </tr>\n",
              "    <tr>\n",
              "      <th>3</th>\n",
              "      <td>cho</td>\n",
              "      <td>O</td>\n",
              "      <td>Sentence: 1</td>\n",
              "    </tr>\n",
              "    <tr>\n",
              "      <th>4</th>\n",
              "      <td>người</td>\n",
              "      <td>O</td>\n",
              "      <td>Sentence: 1</td>\n",
              "    </tr>\n",
              "    <tr>\n",
              "      <th>5</th>\n",
              "      <td>khuyết</td>\n",
              "      <td>O</td>\n",
              "      <td>Sentence: 1</td>\n",
              "    </tr>\n",
              "    <tr>\n",
              "      <th>6</th>\n",
              "      <td>tật</td>\n",
              "      <td>O</td>\n",
              "      <td>Sentence: 1</td>\n",
              "    </tr>\n",
              "    <tr>\n",
              "      <th>7</th>\n",
              "      <td>gk-96</td>\n",
              "      <td>B-NAME</td>\n",
              "      <td>Sentence: 1</td>\n",
              "    </tr>\n",
              "    <tr>\n",
              "      <th>8</th>\n",
              "      <td>.</td>\n",
              "      <td>O</td>\n",
              "      <td>Sentence: 1</td>\n",
              "    </tr>\n",
              "    <tr>\n",
              "      <th>9</th>\n",
              "      <td>hiệu</td>\n",
              "      <td>O</td>\n",
              "      <td>Sentence: 1</td>\n",
              "    </tr>\n",
              "    <tr>\n",
              "      <th>10</th>\n",
              "      <td>lucass</td>\n",
              "      <td>B-BRAND</td>\n",
              "      <td>Sentence: 1</td>\n",
              "    </tr>\n",
              "    <tr>\n",
              "      <th>11</th>\n",
              "      <td>,</td>\n",
              "      <td>O</td>\n",
              "      <td>Sentence: 1</td>\n",
              "    </tr>\n",
              "    <tr>\n",
              "      <th>12</th>\n",
              "      <td>hàng</td>\n",
              "      <td>O</td>\n",
              "      <td>Sentence: 1</td>\n",
              "    </tr>\n",
              "    <tr>\n",
              "      <th>13</th>\n",
              "      <td>mới</td>\n",
              "      <td>B-STATUS</td>\n",
              "      <td>Sentence: 1</td>\n",
              "    </tr>\n",
              "    <tr>\n",
              "      <th>14</th>\n",
              "      <td>100</td>\n",
              "      <td>I-STATUS</td>\n",
              "      <td>Sentence: 1</td>\n",
              "    </tr>\n",
              "    <tr>\n",
              "      <th>15</th>\n",
              "      <td>%</td>\n",
              "      <td>I-STATUS</td>\n",
              "      <td>Sentence: 1</td>\n",
              "    </tr>\n",
              "    <tr>\n",
              "      <th>16</th>\n",
              "      <td>xe</td>\n",
              "      <td>B-TYPE</td>\n",
              "      <td>Sentence: 2</td>\n",
              "    </tr>\n",
              "    <tr>\n",
              "      <th>17</th>\n",
              "      <td>ô</td>\n",
              "      <td>I-TYPE</td>\n",
              "      <td>Sentence: 2</td>\n",
              "    </tr>\n",
              "    <tr>\n",
              "      <th>18</th>\n",
              "      <td>tô</td>\n",
              "      <td>I-TYPE</td>\n",
              "      <td>Sentence: 2</td>\n",
              "    </tr>\n",
              "    <tr>\n",
              "      <th>19</th>\n",
              "      <td>đqsd</td>\n",
              "      <td>B-STATUS</td>\n",
              "      <td>Sentence: 2</td>\n",
              "    </tr>\n",
              "  </tbody>\n",
              "</table>\n",
              "</div>"
            ],
            "text/plain": [
              "      Word       Tag   Sentence #\n",
              "0       xe    B-TYPE  Sentence: 1\n",
              "1       có    I-TYPE  Sentence: 1\n",
              "2       bô    I-TYPE  Sentence: 1\n",
              "3      cho         O  Sentence: 1\n",
              "4    người         O  Sentence: 1\n",
              "5   khuyết         O  Sentence: 1\n",
              "6      tật         O  Sentence: 1\n",
              "7    gk-96    B-NAME  Sentence: 1\n",
              "8        .         O  Sentence: 1\n",
              "9     hiệu         O  Sentence: 1\n",
              "10  lucass   B-BRAND  Sentence: 1\n",
              "11       ,         O  Sentence: 1\n",
              "12    hàng         O  Sentence: 1\n",
              "13     mới  B-STATUS  Sentence: 1\n",
              "14     100  I-STATUS  Sentence: 1\n",
              "15       %  I-STATUS  Sentence: 1\n",
              "16      xe    B-TYPE  Sentence: 2\n",
              "17       ô    I-TYPE  Sentence: 2\n",
              "18      tô    I-TYPE  Sentence: 2\n",
              "19    đqsd  B-STATUS  Sentence: 2"
            ]
          },
          "metadata": {
            "tags": []
          },
          "execution_count": 39
        }
      ]
    },
    {
      "cell_type": "code",
      "metadata": {
        "id": "-z5HqJrBKg0i"
      },
      "source": [
        "getter_test = SentenceGetter(data_test)"
      ],
      "execution_count": null,
      "outputs": []
    },
    {
      "cell_type": "code",
      "metadata": {
        "colab": {
          "base_uri": "https://localhost:8080/"
        },
        "id": "5x-Is6ROKh27",
        "outputId": "1a8258ff-aef7-4636-d2bf-cf12e5de4868"
      },
      "source": [
        "sentences_test = [[word[0] for word in sentence] for sentence in getter_test.sentences]\n",
        "sentences_test[0]"
      ],
      "execution_count": null,
      "outputs": [
        {
          "output_type": "execute_result",
          "data": {
            "text/plain": [
              "['xe',\n",
              " 'có',\n",
              " 'bô',\n",
              " 'cho',\n",
              " 'người',\n",
              " 'khuyết',\n",
              " 'tật',\n",
              " 'gk-96',\n",
              " '.',\n",
              " 'hiệu',\n",
              " 'lucass',\n",
              " ',',\n",
              " 'hàng',\n",
              " 'mới',\n",
              " '100',\n",
              " '%']"
            ]
          },
          "metadata": {
            "tags": []
          },
          "execution_count": 41
        }
      ]
    },
    {
      "cell_type": "code",
      "metadata": {
        "colab": {
          "base_uri": "https://localhost:8080/"
        },
        "id": "cytmlfv2KjGa",
        "outputId": "f0567d6c-3a37-44a8-c3b6-2e1c1c852c15"
      },
      "source": [
        "labels_test = [[s[1] for s in sentence] for sentence in getter_test.sentences]\n",
        "print(labels_test[0])"
      ],
      "execution_count": null,
      "outputs": [
        {
          "output_type": "stream",
          "text": [
            "['B-TYPE', 'I-TYPE', 'I-TYPE', 'O', 'O', 'O', 'O', 'B-NAME', 'O', 'O', 'B-BRAND', 'O', 'O', 'B-STATUS', 'I-STATUS', 'I-STATUS']\n"
          ],
          "name": "stdout"
        }
      ]
    },
    {
      "cell_type": "code",
      "metadata": {
        "id": "ZLEu6jyLKkUZ"
      },
      "source": [
        "A, B = [], []\n",
        "for sent, labs in zip(sentences_test, labels_test):\n",
        "    c, d = tokenize_and_preserve_labels(sent, labs)\n",
        "    A.append(c)\n",
        "    B.append(d)"
      ],
      "execution_count": null,
      "outputs": []
    },
    {
      "cell_type": "code",
      "metadata": {
        "colab": {
          "base_uri": "https://localhost:8080/"
        },
        "id": "H3DbxaSJRHis",
        "outputId": "11fbdd18-b4f3-4f99-c831-1b6b783c7ca8"
      },
      "source": [
        "for a, b in zip(A[0], B[0]):\n",
        "  print(a, b)"
      ],
      "execution_count": null,
      "outputs": [
        {
          "output_type": "stream",
          "text": [
            "xe B-TYPE\n",
            "có I-TYPE\n",
            "bô I-TYPE\n",
            "cho O\n",
            "người O\n",
            "khuyết O\n",
            "tật O\n",
            "g@@ B-NAME\n",
            "k-@@ B-NAME\n",
            "96 B-NAME\n",
            ". O\n",
            "hiệu O\n",
            "lu@@ B-BRAND\n",
            "cas@@ B-BRAND\n",
            "s B-BRAND\n",
            ", O\n",
            "hàng O\n",
            "mới B-STATUS\n",
            "100 I-STATUS\n",
            "% I-STATUS\n"
          ],
          "name": "stdout"
        }
      ]
    },
    {
      "cell_type": "code",
      "metadata": {
        "colab": {
          "base_uri": "https://localhost:8080/"
        },
        "id": "Z3ZEoqftU864",
        "outputId": "e12a1ee8-37b1-4218-805f-fd2140e316a6"
      },
      "source": [
        "new_tokens, new_labels = [], []\n",
        "dem = 0\n",
        "for token, label_idx in zip(A[0], B[0]):\n",
        "    try:\n",
        "      if A[0][dem-1].endswith(\"@@\"):\n",
        "        new_tokens[-1] = new_tokens[-1][:-2] + token\n",
        "      else:\n",
        "        new_labels.append(label_idx)\n",
        "        new_tokens.append(token)\n",
        "      dem += 1\n",
        "    except:\n",
        "      pass\n",
        "print(new_labels)\n",
        "print(new_tokens)"
      ],
      "execution_count": null,
      "outputs": [
        {
          "output_type": "stream",
          "text": [
            "['B-TYPE', 'I-TYPE', 'I-TYPE', 'O', 'O', 'O', 'O', 'B-NAME', 'O', 'O', 'B-BRAND', 'O', 'O', 'B-STATUS', 'I-STATUS', 'I-STATUS']\n",
            "['xe', 'có', 'bô', 'cho', 'người', 'khuyết', 'tật', 'gk-96', '.', 'hiệu', 'lucass', ',', 'hàng', 'mới', '100', '%']\n"
          ],
          "name": "stdout"
        }
      ]
    },
    {
      "cell_type": "code",
      "metadata": {
        "id": "rixzGGfPKmjt"
      },
      "source": [
        "M, N = [], []\n",
        "for i in range(len(A)):\n",
        "  new_tokens, new_labels = [], []\n",
        "  dem = 0\n",
        "  for token, label_idx in zip(A[i], B[i]):\n",
        "    try:\n",
        "      if A[i][dem-1].endswith(\"@@\"):\n",
        "        new_tokens[-1] = new_tokens[-1][:-2] + token\n",
        "      else:\n",
        "        new_labels.append(label_idx)\n",
        "        new_tokens.append(token)\n",
        "      dem += 1\n",
        "    except:\n",
        "      pass\n",
        "  M.append(new_tokens)\n",
        "  N.append(new_labels)"
      ],
      "execution_count": null,
      "outputs": []
    },
    {
      "cell_type": "code",
      "metadata": {
        "colab": {
          "base_uri": "https://localhost:8080/"
        },
        "id": "nwz9wHzGKn1p",
        "outputId": "bbfd24a0-097d-4b01-f57d-6a4b3228af5f"
      },
      "source": [
        "X = []\n",
        "for i in sentences_test:\n",
        "    X.append(' '.join(i))\n",
        "X[0]"
      ],
      "execution_count": null,
      "outputs": [
        {
          "output_type": "execute_result",
          "data": {
            "application/vnd.google.colaboratory.intrinsic+json": {
              "type": "string"
            },
            "text/plain": [
              "'xe có bô cho người khuyết tật gk-96 . hiệu lucass , hàng mới 100 %'"
            ]
          },
          "metadata": {
            "tags": []
          },
          "execution_count": 47
        }
      ]
    },
    {
      "cell_type": "code",
      "metadata": {
        "colab": {
          "base_uri": "https://localhost:8080/"
        },
        "id": "7DDA2KkUKo-R",
        "outputId": "4fca8b84-af93-46b6-d9fe-ec78897c7e63"
      },
      "source": [
        "y_pred = []\n",
        "for i in X:\n",
        "  y_pred.append(predict(i))\n",
        "y_pred[0]"
      ],
      "execution_count": null,
      "outputs": [
        {
          "output_type": "execute_result",
          "data": {
            "text/plain": [
              "['B-TYPE',\n",
              " 'I-TYPE',\n",
              " 'I-TYPE',\n",
              " 'O',\n",
              " 'O',\n",
              " 'O',\n",
              " 'O',\n",
              " 'B-NAME',\n",
              " 'O',\n",
              " 'O',\n",
              " 'B-BRAND',\n",
              " 'O',\n",
              " 'O',\n",
              " 'B-STATUS',\n",
              " 'I-STATUS',\n",
              " 'I-STATUS']"
            ]
          },
          "metadata": {
            "tags": []
          },
          "execution_count": 48
        }
      ]
    },
    {
      "cell_type": "code",
      "metadata": {
        "colab": {
          "base_uri": "https://localhost:8080/"
        },
        "id": "J7ZBsI20Fa1n",
        "outputId": "f8f2a753-9173-4fec-cb82-f32314aa2bbd"
      },
      "source": [
        "N[0]"
      ],
      "execution_count": null,
      "outputs": [
        {
          "output_type": "execute_result",
          "data": {
            "text/plain": [
              "['B-TYPE',\n",
              " 'I-TYPE',\n",
              " 'I-TYPE',\n",
              " 'O',\n",
              " 'O',\n",
              " 'O',\n",
              " 'O',\n",
              " 'B-NAME',\n",
              " 'O',\n",
              " 'O',\n",
              " 'B-BRAND',\n",
              " 'O',\n",
              " 'O',\n",
              " 'B-STATUS',\n",
              " 'I-STATUS',\n",
              " 'I-STATUS']"
            ]
          },
          "metadata": {
            "tags": []
          },
          "execution_count": 49
        }
      ]
    },
    {
      "cell_type": "code",
      "metadata": {
        "id": "lo62ZAGYKqB5"
      },
      "source": [
        "from sklearn.metrics import classification_report\n",
        "from sklearn.preprocessing import MultiLabelBinarizer"
      ],
      "execution_count": null,
      "outputs": []
    },
    {
      "cell_type": "code",
      "metadata": {
        "id": "lrB3bAjXKrcS"
      },
      "source": [
        "mlb = MultiLabelBinarizer()"
      ],
      "execution_count": null,
      "outputs": []
    },
    {
      "cell_type": "code",
      "metadata": {
        "colab": {
          "base_uri": "https://localhost:8080/"
        },
        "id": "_2sp9rBIKuFR",
        "outputId": "596b7cea-545f-4d5d-b103-b65cf3b850d7"
      },
      "source": [
        "tag_values"
      ],
      "execution_count": null,
      "outputs": [
        {
          "output_type": "execute_result",
          "data": {
            "text/plain": [
              "['B-NAME',\n",
              " 'B-ENGINE_FULE_TYPE',\n",
              " 'I-TYPE',\n",
              " 'B-YEAR',\n",
              " 'I-BRAND',\n",
              " 'B-STATUS',\n",
              " 'B-TYPE',\n",
              " 'O',\n",
              " 'I-NAME',\n",
              " 'B-BRAND',\n",
              " 'I-STATUS',\n",
              " 'PAD']"
            ]
          },
          "metadata": {
            "tags": []
          },
          "execution_count": 52
        }
      ]
    },
    {
      "cell_type": "code",
      "metadata": {
        "colab": {
          "base_uri": "https://localhost:8080/"
        },
        "id": "qafJDeF_KvS_",
        "outputId": "948f242d-8099-4f78-e3f8-c8deb1518098"
      },
      "source": [
        "mlb.fit([tag_values])"
      ],
      "execution_count": null,
      "outputs": [
        {
          "output_type": "execute_result",
          "data": {
            "text/plain": [
              "MultiLabelBinarizer(classes=None, sparse_output=False)"
            ]
          },
          "metadata": {
            "tags": []
          },
          "execution_count": 53
        }
      ]
    },
    {
      "cell_type": "code",
      "metadata": {
        "id": "ePtvFgLZLFzq"
      },
      "source": [
        "actual = mlb.transform(N)"
      ],
      "execution_count": null,
      "outputs": []
    },
    {
      "cell_type": "code",
      "metadata": {
        "id": "HxUd88HtLHCt"
      },
      "source": [
        "pred = mlb.transform(y_pred)"
      ],
      "execution_count": null,
      "outputs": []
    },
    {
      "cell_type": "code",
      "metadata": {
        "colab": {
          "base_uri": "https://localhost:8080/"
        },
        "id": "EYj2TaTfWgdI",
        "outputId": "6493340d-6483-4d9d-90b4-105810830315"
      },
      "source": [
        "mlb.classes_"
      ],
      "execution_count": null,
      "outputs": [
        {
          "output_type": "execute_result",
          "data": {
            "text/plain": [
              "array(['B-BRAND', 'B-ENGINE_FULE_TYPE', 'B-NAME', 'B-STATUS', 'B-TYPE',\n",
              "       'B-YEAR', 'I-BRAND', 'I-NAME', 'I-STATUS', 'I-TYPE', 'O', 'PAD'],\n",
              "      dtype=object)"
            ]
          },
          "metadata": {
            "tags": []
          },
          "execution_count": 56
        }
      ]
    },
    {
      "cell_type": "code",
      "metadata": {
        "colab": {
          "base_uri": "https://localhost:8080/"
        },
        "id": "xRL270d-LIQ-",
        "outputId": "523a2560-3cb4-4018-f936-bd324040e108"
      },
      "source": [
        "print(classification_report(actual,pred, target_names=mlb.classes_))"
      ],
      "execution_count": null,
      "outputs": [
        {
          "output_type": "stream",
          "text": [
            "                    precision    recall  f1-score   support\n",
            "\n",
            "           B-BRAND       1.00      1.00      1.00      1707\n",
            "B-ENGINE_FULE_TYPE       1.00      1.00      1.00       864\n",
            "            B-NAME       0.98      0.99      0.99      1188\n",
            "          B-STATUS       0.99      1.00      1.00      1899\n",
            "            B-TYPE       0.96      0.97      0.96      1611\n",
            "            B-YEAR       1.00      1.00      1.00      1174\n",
            "           I-BRAND       0.99      1.00      0.99       153\n",
            "            I-NAME       0.99      1.00      0.99       470\n",
            "          I-STATUS       0.99      1.00      1.00      1816\n",
            "            I-TYPE       1.00      1.00      1.00      2137\n",
            "                 O       1.00      1.00      1.00      2341\n",
            "               PAD       0.00      0.00      0.00         0\n",
            "\n",
            "         micro avg       0.99      1.00      0.99     15360\n",
            "         macro avg       0.91      0.91      0.91     15360\n",
            "      weighted avg       0.99      1.00      0.99     15360\n",
            "       samples avg       0.99      0.99      0.99     15360\n",
            "\n"
          ],
          "name": "stdout"
        },
        {
          "output_type": "stream",
          "text": [
            "/usr/local/lib/python3.7/dist-packages/sklearn/metrics/_classification.py:1272: UndefinedMetricWarning: Precision and F-score are ill-defined and being set to 0.0 in labels with no predicted samples. Use `zero_division` parameter to control this behavior.\n",
            "  _warn_prf(average, modifier, msg_start, len(result))\n",
            "/usr/local/lib/python3.7/dist-packages/sklearn/metrics/_classification.py:1272: UndefinedMetricWarning: Recall and F-score are ill-defined and being set to 0.0 in labels with no true samples. Use `zero_division` parameter to control this behavior.\n",
            "  _warn_prf(average, modifier, msg_start, len(result))\n"
          ],
          "name": "stderr"
        }
      ]
    },
    {
      "cell_type": "code",
      "metadata": {
        "colab": {
          "base_uri": "https://localhost:8080/"
        },
        "id": "YZeYZLgKKa3f",
        "outputId": "48abec4d-d702-4272-ce5c-d1d3135cb084"
      },
      "source": [
        "len(M), len(N), len(y_pred)"
      ],
      "execution_count": null,
      "outputs": [
        {
          "output_type": "execute_result",
          "data": {
            "text/plain": [
              "(2354, 2354, 2354)"
            ]
          },
          "metadata": {
            "tags": []
          },
          "execution_count": 58
        }
      ]
    },
    {
      "cell_type": "code",
      "metadata": {
        "id": "4RPC5TcWHy1Y"
      },
      "source": [
        "torch.save(model, \"/content/drive/MyDrive/Project 1/phobert_model_\" + str(epochs) + \"epochs.pt\")"
      ],
      "execution_count": null,
      "outputs": []
    },
    {
      "cell_type": "code",
      "metadata": {
        "id": "XJww2_9mgbpv"
      },
      "source": [
        "import pickle\n",
        "tag_values_file = open(\"/content/drive/MyDrive/Project 1/tag_values_phoBERT_\"+ str(epochs) + \"epochs.pkl\", \"wb\")\n",
        "pickle.dump(tag_values, tag_values_file)\n",
        "tag_values_file.close()"
      ],
      "execution_count": null,
      "outputs": []
    },
    {
      "cell_type": "code",
      "metadata": {
        "id": "WjSMlDxKg3aC"
      },
      "source": [
        ""
      ],
      "execution_count": null,
      "outputs": []
    }
  ]
}